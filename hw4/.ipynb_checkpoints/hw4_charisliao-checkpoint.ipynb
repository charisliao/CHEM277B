{
 "cells": [
  {
   "cell_type": "markdown",
   "id": "abe21379",
   "metadata": {},
   "source": [
    "# MSSE 277B: Machine Learning Algorithms \n",
    "\n",
    "## Homework assignment #4: Regression \n",
    "\n",
    "### Student Name: Charis Liao \n",
    "\n",
    "#### Assigned Feb.16 and Due Feb.28 \n"
   ]
  },
  {
   "cell_type": "markdown",
   "id": "ab067212",
   "metadata": {},
   "source": [
    "#### 1. Linear Regression using a simple perceptron \n",
    "\n",
    "For getting into graduate school, download the grad school attribute data set from Files. \n",
    "\n",
    "(a) Define the features that are related to predicting the Chance of Admit, and normalize them.     \n",
    "\n",
    "(b) Fill in the code for a simple perceptron. Initialize your weights and biases between 0 and 0.05 using your random number generator. Use the mean square error (MSE) to adjust your weights through back-propagation. Fill in the blanks for the feedforward and backpropagation step.       \n",
    "\n",
    "(c) Fill in the code for k-fold validation. Use 80% of the data fir training and 20% of the data for testing and do 5-fold validation. Use a learning rate of 0.0001. Are the features good indicators for getting into graduate school? Now remove the GRE scores and do the same test; are GRE scores important?     "
   ]
  },
  {
   "cell_type": "code",
   "execution_count": null,
   "id": "99902e80",
   "metadata": {},
   "outputs": [],
   "source": []
  },
  {
   "cell_type": "markdown",
   "id": "ea69232f",
   "metadata": {},
   "source": [
    "#### 2. Logistic regression using a simple perceptron.     \n",
    "\n",
    "For whether your status is sufficient to make it off the Titanic, download the Titanic data set from Files.     \n",
    "\n",
    "(a) Process the dataset. What changes from problem 1? Filter out data with missing features. Use one-hot encoders to transform the categorical features and the output survival status.     \n",
    "*Hint: Here are some [brief description](http://campus.lakeforest.edu/frank/FILES/MLFfiles/Bio150/Titanic/TitanicMETA.pdf) for the dataset if you are unsure what each descriptor means.*     \n",
    "\n",
    "(b) Use the simple perceptron model we developed in Q1. Use 80% of the data from training and 20% of the data for testing and do 5-fold validation. Can we predict who will survive? Play around with the features to determine which ones give you a better chance to get back to shore.     "
   ]
  },
  {
   "cell_type": "code",
   "execution_count": null,
   "id": "22a63379",
   "metadata": {},
   "outputs": [],
   "source": []
  },
  {
   "cell_type": "markdown",
   "id": "af1388ab",
   "metadata": {},
   "source": [
    "#### 3. Nonlinear regression using a simple perceptron and a simple ANN.     \n",
    "Let's try to fit a simple sine function $y = 3\\sin(x)+5$ with the simple perceptron and a simple fully connected network.     \n",
    "\n",
    "(a) Use the generate_data() function provided in the reference file to generate the trianing data (5000 points). Do 5-fold cross validation with the simple perceptron model. How well is the prediction? Generate 1000 new points as your test data, and use the show_correlation() function to see how well your model agree with the test data.     \n",
    "\n",
    "(b) Use the multilayer perceptron regressor of scikit-learn as a simple fully connected neural network. Use one hidden layer with 8 neurons. Do 5-fold cross validation with this simple ANN, and report the MSE on each fold. Visualize the correlation of your model prediction and the true test data. Is the result better than a simple perceptron? \n",
    "\n",
    "(c) Play with the architecture for the ANN, can you improve the performance by including additional hidden layers? "
   ]
  },
  {
   "cell_type": "code",
   "execution_count": null,
   "id": "21581f31",
   "metadata": {},
   "outputs": [],
   "source": []
  }
 ],
 "metadata": {
  "kernelspec": {
   "display_name": "Python 3 (ipykernel)",
   "language": "python",
   "name": "python3"
  },
  "language_info": {
   "codemirror_mode": {
    "name": "ipython",
    "version": 3
   },
   "file_extension": ".py",
   "mimetype": "text/x-python",
   "name": "python",
   "nbconvert_exporter": "python",
   "pygments_lexer": "ipython3",
   "version": "3.9.13"
  }
 },
 "nbformat": 4,
 "nbformat_minor": 5
}
